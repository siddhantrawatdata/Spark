{
 "cells": [
  {
   "cell_type": "code",
   "execution_count": 0,
   "metadata": {
    "application/vnd.databricks.v1+cell": {
     "cellMetadata": {
      "byteLimit": 2048000,
      "rowLimit": 10000
     },
     "inputWidgets": {},
     "nuid": "90c3b0d1-b085-4ff5-bec4-cc4406d70001",
     "showTitle": false,
     "title": ""
    }
   },
   "outputs": [
    {
     "output_type": "stream",
     "name": "stdout",
     "output_type": "stream",
     "text": [
      "+-----------+--------------------+--------------+--------------------+-----------+--------+\n|customer_id|               email|          name|        phone_number|signup_date|  status|\n+-----------+--------------------+--------------+--------------------+-----------+--------+\n|  C00427221|                xxxx|          test|             2222222| 2024-04-18|inactive|\n|  C00492265|                xxxx|          test|             2222222| 2024-05-18|  active|\n|  C00466409|danieljohnson@yah...|Daniel Johnson|  (736)436-6369x9720| 2024-06-18|inactive|\n|  C00474994| scottcook@yahoo.com|    Scott Cook|001-898-859-1057x...| 2024-01-10|  active|\n|  C00428433|                xxxx|          test|             2222222| 2024-04-18|inactive|\n+-----------+--------------------+--------------+--------------------+-----------+--------+\nonly showing top 5 rows\n\n+-----------+-----+----+------------+-----------+------+\n|customer_id|email|name|phone_number|signup_date|status|\n+-----------+-----+----+------------+-----------+------+\n+-----------+-----+----+------------+-----------+------+\n\n"
     ]
    }
   ],
   "source": [
    "from pyspark.sql.functions import *\n",
    "# load the customer data\n",
    "\n",
    "file_location_zoom_customers = \"/FileStore/zoom_car_customer_data/\"\n",
    "\n",
    "zoom_car_customer_data = spark.read.json(file_location_zoom_customers)\n",
    "zoom_car_customer_data.show(5)\n",
    "\n",
    "# For the current date code you can refer to Zoom car booking Analysis file\n",
    "\n",
    "# Removing null records in critical fields (customer_id,name_email)\n",
    "\n",
    "zoom_car_customer_bad_data = zoom_car_customer_data.filter((col('customer_id').isNull()) | (col('name').isNull()) | (col('email').isNull()))\n",
    "zoom_car_customer_bad_data.show()\n",
    "\n",
    "# Insert the bad data into a error table  \n",
    "\n",
    "zoom_car_customer_bad_data.write.format(\"delta\").mode(\"append\").saveAsTable(\"dev_databricks_projects.zoom_data.error_customers\")"
   ]
  },
  {
   "cell_type": "code",
   "execution_count": 0,
   "metadata": {
    "application/vnd.databricks.v1+cell": {
     "cellMetadata": {
      "byteLimit": 2048000,
      "rowLimit": 10000
     },
     "inputWidgets": {},
     "nuid": "24a00c01-dc0e-480f-acde-1730030781b2",
     "showTitle": false,
     "title": ""
    }
   },
   "outputs": [
    {
     "output_type": "stream",
     "name": "stdout",
     "output_type": "stream",
     "text": [
      "+-----------+--------------------+--------------+--------------------+-----------+--------+--------------+\n|customer_id|               email|          name|        phone_number|signup_date|  status|is_email_valid|\n+-----------+--------------------+--------------+--------------------+-----------+--------+--------------+\n|  C00466409|danieljohnson@yah...|Daniel Johnson|  (736)436-6369x9720| 2024-06-18|inactive|         VALID|\n|  C00474994| scottcook@yahoo.com|    Scott Cook|001-898-859-1057x...| 2024-01-10|  active|         VALID|\n|  C00447623|johnpeterson@yaho...| John Peterson|   377.921.2360x6621| 2024-05-18|inactive|         VALID|\n|  C00433281|  anaperez@yahoo.com|     Ana Perez|001-650-331-9625x302| 2024-06-18|  active|         VALID|\n|  C00471055|williekelly@hotma...|  Willie Kelly|    337-284-7668x881| 2024-04-25|inactive|         VALID|\n+-----------+--------------------+--------------+--------------------+-----------+--------+--------------+\nonly showing top 5 rows\n\n+-----------+-----+----+------------+-----------+--------+\n|customer_id|email|name|phone_number|signup_date|  status|\n+-----------+-----+----+------------+-----------+--------+\n|  C00427221| xxxx|test|     2222222| 2024-04-18|inactive|\n|  C00492265| xxxx|test|     2222222| 2024-05-18|  active|\n|  C00428433| xxxx|test|     2222222| 2024-04-18|inactive|\n|  C00480953| xxxx|test|     2222222| 2024-06-18|inactive|\n|  C00473075| xxxx|test|     2222222| 2024-04-25|  active|\n+-----------+-----+----+------------+-----------+--------+\nonly showing top 5 rows\n\n"
     ]
    }
   ],
   "source": [
    "import re\n",
    "from pyspark.sql.functions import *\n",
    "# validation of Email formats. \n",
    "# store the invalid email formats in a table with append mode and do not proceed them further\n",
    "\n",
    "def validate_email_formats(email):\n",
    "    split_email = email.split('@')\n",
    "    if len(split_email) != 2:\n",
    "        return \"INVALID\"\n",
    "\n",
    "    domain_names = ['gmail.com','yahoo.com','hotmail.com','outlook.com','aol.com','mail.com','live.com']\n",
    "    pattern=r'^[a-zA-Z0-9]+$'\n",
    "\n",
    "    if split_email[1] not in domain_names:\n",
    "        return \"INVALID\"\n",
    "    elif re.match(pattern,split_email[0]) == False:\n",
    "        return \"INVALID\"\n",
    "    \n",
    "    return \"VALID\"\n",
    "\n",
    "valid_email_udf=udf(validate_email_formats)\n",
    "zoom_car_customer_good_data = zoom_car_customer_data.filter((col('customer_id').isNotNull()) & (col('name').isNotNull()) & (col('email').isNotNull()))\n",
    "zoom_car_valid_email_data = zoom_car_customer_good_data.withColumn('is_email_valid',valid_email_udf(col('email')))\\\n",
    "    .filter(col('is_email_valid') == 'VALID')\n",
    "\n",
    "zoom_car_valid_email_data.show(5)\n",
    "\n",
    "# Write the invalid emails to error record tables \n",
    "\n",
    "zoom_car_invalid_email_data = zoom_car_customer_good_data.withColumn('is_email_valid',valid_email_udf(col('email')))\\\n",
    "    .filter(col('is_email_valid') == 'INVALID')\\\n",
    "    .select('customer_id','email','name','phone_number','signup_date','status')\n",
    "\n",
    "zoom_car_invalid_email_data.show(5)\n",
    "\n",
    "# Write invalid data into the table\n",
    "zoom_car_invalid_email_data.write.format(\"delta\").mode(\"append\").saveAsTable(\"dev_databricks_projects.zoom_data.error_customers\")\n",
    "\n",
    "\n",
    "\n",
    "\n",
    "        \n",
    "\n",
    "    \n",
    "\n"
   ]
  },
  {
   "cell_type": "code",
   "execution_count": 0,
   "metadata": {
    "application/vnd.databricks.v1+cell": {
     "cellMetadata": {
      "byteLimit": 2048000,
      "rowLimit": 10000
     },
     "inputWidgets": {},
     "nuid": "a771517d-d20a-45e0-8e47-116038137a03",
     "showTitle": false,
     "title": ""
    }
   },
   "outputs": [
    {
     "output_type": "stream",
     "name": "stdout",
     "output_type": "stream",
     "text": [
      "+----------+\n|def_status|\n+----------+\n|    active|\n|  inactive|\n+----------+\n\n"
     ]
    }
   ],
   "source": [
    "# Ensure that status is one of the pre-defined status. \n",
    "# For this we follow the approach of creating a dataset with all the valid status and performing a left join from the data to the valid status dataset. and erroring out the records where we do not find a match\n",
    "\n",
    "valid_status_data=[\n",
    "    {\n",
    "    'def_status':'active'\n",
    "    },\n",
    "    {\n",
    "        'def_status':'inactive'\n",
    "    }\n",
    "]\n",
    "\n",
    "valid_data_df = spark.createDataFrame(valid_status_data)\n",
    "valid_data_df.show()\n",
    "\n",
    "valid_status_zoom_car_customer_data = zoom_car_valid_email_data.join(valid_data_df\\\n",
    "    ,on=valid_data_df['def_status']==zoom_car_valid_email_data['status']\\\n",
    "    ,how='left')\\\n",
    "        .filter(col('def_status').isNotNull())\n",
    "\n",
    "invalid_status_zoom_car_customer_data = zoom_car_valid_email_data.join(valid_data_df\\\n",
    "    ,on=valid_data_df['def_status']==zoom_car_valid_email_data['status']\\\n",
    "    ,how='left')\\\n",
    "        .filter(col('def_status').isNull())\n",
    "\n",
    "# add the invalid customer data into the error table \n",
    "invalid_status_zoom_car_customer_data\\\n",
    "    .select('customer_id','email','name','phone_number','signup_date','status')\\\n",
    "        .write\\\n",
    "            .format(\"delta\")\\\n",
    "                .mode(\"append\")\\\n",
    "                    .saveAsTable(\"dev_databricks_projects.zoom_data.error_customers\")\n"
   ]
  },
  {
   "cell_type": "code",
   "execution_count": 0,
   "metadata": {
    "application/vnd.databricks.v1+cell": {
     "cellMetadata": {
      "byteLimit": 2048000,
      "rowLimit": 10000
     },
     "inputWidgets": {},
     "nuid": "774ea33a-d2a7-44c0-9c38-aca251ad00fb",
     "showTitle": false,
     "title": ""
    }
   },
   "outputs": [],
   "source": [
    "# load cleaned data into staging customers dev table\n",
    "valid_status_zoom_car_customer_data.write.format(\"delta\").mode(\"append\").saveAsTable(\"dev_databricks_projects.zoom_data.staging_customers_data\")\n"
   ]
  },
  {
   "cell_type": "code",
   "execution_count": 0,
   "metadata": {
    "application/vnd.databricks.v1+cell": {
     "cellMetadata": {
      "byteLimit": 2048000,
      "rowLimit": 10000
     },
     "inputWidgets": {},
     "nuid": "287ac80a-cd05-4128-af49-8ce636bea492",
     "showTitle": false,
     "title": ""
    }
   },
   "outputs": [
    {
     "output_type": "stream",
     "name": "stdout",
     "output_type": "stream",
     "text": [
      "+-----------+--------------------+--------------+--------------------+-----------+------+--------------+----------+\n|customer_id|               email|          name|        phone_number|signup_date|status|is_email_valid|def_status|\n+-----------+--------------------+--------------+--------------------+-----------+------+--------------+----------+\n|  C00449138|dawnbryant@hotmai...|   Dawn Bryant|  (372)433-9737x7105| 2024-06-18|active|         VALID|    active|\n|  C00479438|nicholasdoyle@out...|Nicholas Doyle|   (805)263-9518x437| 2024-01-10|active|         VALID|    active|\n|  C00451562|edwardmiller@gmai...| Edward Miller|  (235)824-0661x9203| 2024-02-12|active|         VALID|    active|\n|  C00455400|candicewhite@gmai...| Candice White| (935)209-6798x81073| 2024-05-18|active|         VALID|    active|\n|  C00444997|sherryward@gmail.com|   Sherry Ward|001-495-420-0175x...| 2024-01-10|active|         VALID|    active|\n+-----------+--------------------+--------------+--------------------+-----------+------+--------------+----------+\nonly showing top 5 rows\n\n+---------------------+\n|standard_phone_number|\n+---------------------+\n|         680-265-1810|\n|         286-469-6386|\n|         923-294-1706|\n|         912-568-2944|\n|         881-242-7636|\n+---------------------+\nonly showing top 5 rows\n\n+-----------+-----------------+------+\n|signup_date|current_date_calc|tenure|\n+-----------+-----------------+------+\n| 2024-06-18|       2024-08-31|    74|\n| 2024-01-10|       2024-08-31|   234|\n| 2024-02-12|       2024-08-31|   201|\n| 2024-05-18|       2024-08-31|   105|\n| 2024-01-10|       2024-08-31|   234|\n+-----------+-----------------+------+\nonly showing top 5 rows\n\n"
     ]
    }
   ],
   "source": [
    "# Application of Transformation\n",
    "# Normalize phone numbers to a standard format\n",
    "\n",
    "valid_status_zoom_car_customer_data.show(5)\n",
    "\n",
    "valid_status_zoom_car_customer_tmp_phone_modified_data = valid_status_zoom_car_customer_data.withColumn('tmp_standard_phone_number'\\\n",
    "    ,regexp_replace('phone_number',r\"\\D\",\"\")\\\n",
    "        )\n",
    "\n",
    "valid_status_zoom_car_customer_phone_modified_data = valid_status_zoom_car_customer_tmp_phone_modified_data.withColumn('standard_phone_number'\\\n",
    "    ,concat(col('tmp_standard_phone_number').substr(1,3),lit(\"-\")\\\n",
    "        ,col('tmp_standard_phone_number').substr(4,3),lit(\"-\")\\\n",
    "            ,col('tmp_standard_phone_number').substr(7,4)\\\n",
    "                )\\\n",
    "                    )\n",
    "\n",
    "# Calculation of customer tenure from signup date only for the active users. If we want to calculate for all users we can simply remove filter\n",
    "\n",
    "current_dt = spark.sql(\"select current_date() as dt\")\n",
    "current_dtt=current_dt.collect()[0][0]\n",
    "customer_tenure = valid_status_zoom_car_customer_phone_modified_data.filter(col('status')=='active')\\\n",
    "    .withColumn('current_date_calc',to_date(lit(current_dtt)))\\\n",
    "        .withColumn('tenure',date_diff(col('current_date_calc'),col('signup_date'))).select('signup_date','current_date_calc','tenure')\n",
    "\n",
    "\n",
    "\n",
    "\n",
    "valid_status_zoom_car_customer_phone_modified_data.select('standard_phone_number').show(5)\n",
    "customer_tenure.show(5)\n"
   ]
  },
  {
   "cell_type": "code",
   "execution_count": 0,
   "metadata": {
    "application/vnd.databricks.v1+cell": {
     "cellMetadata": {
      "byteLimit": 2048000,
      "rowLimit": 10000
     },
     "inputWidgets": {},
     "nuid": "7c7ddf16-e2f7-45d6-b4be-70f59fb0ebdf",
     "showTitle": false,
     "title": ""
    }
   },
   "outputs": [],
   "source": []
  }
 ],
 "metadata": {
  "application/vnd.databricks.v1+notebook": {
   "dashboards": [],
   "environmentMetadata": {
    "base_environment": "",
    "client": "1"
   },
   "language": "python",
   "notebookMetadata": {
    "pythonIndentUnit": 4
   },
   "notebookName": "Zoom Car Customer Analysis",
   "widgets": {}
  }
 },
 "nbformat": 4,
 "nbformat_minor": 0
}
